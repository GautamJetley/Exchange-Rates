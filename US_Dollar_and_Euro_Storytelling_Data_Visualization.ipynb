{
  "nbformat": 4,
  "nbformat_minor": 0,
  "metadata": {
    "colab": {
      "provenance": []
    },
    "kernelspec": {
      "name": "python3",
      "display_name": "Python 3"
    },
    "language_info": {
      "name": "python"
    }
  },
  "cells": [
    {
      "cell_type": "code",
      "execution_count": null,
      "metadata": {
        "id": "GeA5ulfVfz-i"
      },
      "outputs": [],
      "source": [
        "import pandas as pd\n",
        "\n",
        "exchange_rates = pd.read_csv('euro-daily-hist_1999_2020.csv')\n",
        "exchange_rates.head()"
      ]
    },
    {
      "cell_type": "code",
      "source": [
        "exchange_rates.tail()"
      ],
      "metadata": {
        "id": "IfSnSYgNgCNh"
      },
      "execution_count": null,
      "outputs": []
    },
    {
      "cell_type": "code",
      "source": [
        "exchange_rates.info()"
      ],
      "metadata": {
        "id": "_YhNTRmygCj-"
      },
      "execution_count": null,
      "outputs": []
    },
    {
      "cell_type": "code",
      "source": [
        "exchange_rates.rename(columns={'[US dollar ]': 'US_dollar',\n",
        "                               'Period\\\\Unit:': 'Time'},\n",
        "                      inplace=True)\n",
        "exchange_rates['Time'] = pd.to_datetime(exchange_rates['Time'])\n",
        "exchange_rates.sort_values('Time', inplace=True)\n",
        "exchange_rates.reset_index(drop=True, inplace=True)\n",
        "exchange_rates.head()"
      ],
      "metadata": {
        "id": "blKTlj69gC2a"
      },
      "execution_count": null,
      "outputs": []
    },
    {
      "cell_type": "code",
      "source": [
        "euro_to_dollar = exchange_rates[['Time', 'US_dollar']].copy()\n",
        "euro_to_dollar['US_dollar'].value_counts() # 62 '-' characters"
      ],
      "metadata": {
        "id": "90ZM4CiFgDQa"
      },
      "execution_count": null,
      "outputs": []
    },
    {
      "cell_type": "code",
      "source": [
        "euro_to_dollar = euro_to_dollar[euro_to_dollar['US_dollar'] != '-']\n",
        "euro_to_dollar['US_dollar'] = euro_to_dollar['US_dollar'].astype(float)\n",
        "euro_to_dollar.info()"
      ],
      "metadata": {
        "id": "TE6_SbVohDu5"
      },
      "execution_count": null,
      "outputs": []
    },
    {
      "cell_type": "code",
      "source": [
        "import matplotlib.pyplot as plt\n",
        "%matplotlib inline\n",
        "\n",
        "plt.plot(euro_to_dollar['Time'], euro_to_dollar['US_dollar'])\n",
        "plt.show()"
      ],
      "metadata": {
        "id": "TaIfPjEDhG2f"
      },
      "execution_count": null,
      "outputs": []
    },
    {
      "cell_type": "code",
      "source": [
        "plt.figure(figsize=(9,6))\n",
        "\n",
        "plt.subplot(3,2,1)\n",
        "plt.plot(euro_to_dollar['Time'], euro_to_dollar['US_dollar'])\n",
        "plt.title('Original values', weight='bold')\n",
        "\n",
        "for i, rolling_mean in zip([2, 3, 4, 5, 6],\n",
        "                           [7, 30, 50, 100, 365]):\n",
        "    plt.subplot(3,2,i)\n",
        "    plt.plot(euro_to_dollar['Time'],\n",
        "             euro_to_dollar['US_dollar'].rolling(rolling_mean).mean())\n",
        "    plt.title('Rolling Window:' + str(rolling_mean), weight='bold')\n",
        "\n",
        "plt.tight_layout() # Auto-adjusts the padding between subplots\n",
        "plt.show()"
      ],
      "metadata": {
        "id": "b8K3EotQhJ9B"
      },
      "execution_count": null,
      "outputs": []
    },
    {
      "cell_type": "code",
      "source": [
        "euro_to_dollar['rolling_mean'] = euro_to_dollar['US_dollar'].rolling(30).mean()\n",
        "euro_to_dollar\n"
      ],
      "metadata": {
        "id": "-yNkvC0ChMdq"
      },
      "execution_count": null,
      "outputs": []
    },
    {
      "cell_type": "code",
      "source": [
        "financial_crisis = euro_to_dollar.copy(\n",
        "                   )[(euro_to_dollar['Time'].dt.year >= 2006\n",
        "                   ) & (euro_to_dollar['Time'].dt.year <= 2009)]\n",
        "financial_crisis_7_8 = euro_to_dollar.copy(\n",
        "                   )[(euro_to_dollar.Time.dt.year >= 2007\n",
        "                   ) & (euro_to_dollar.Time.dt.year <= 2008)]"
      ],
      "metadata": {
        "id": "JIZrksT5hPKc"
      },
      "execution_count": null,
      "outputs": []
    },
    {
      "cell_type": "code",
      "source": [
        "### Adding the FiveThirtyEight style\n",
        "import matplotlib.style as style\n",
        "style.use('fivethirtyeight')\n",
        "\n",
        "### Adding the plot\n",
        "fig,ax = plt.subplots(figsize=(8,3))\n",
        "ax.plot(financial_crisis['Time'],\n",
        "        financial_crisis['rolling_mean'],\n",
        "        linewidth=1, color='#A6D785')\n",
        "\n",
        "### Highlighting the 2007-2008 period\n",
        "ax.plot(financial_crisis_7_8['Time'],\n",
        "        financial_crisis_7_8['rolling_mean'],\n",
        "        linewidth=3, color='#e23d28')\n",
        "\n",
        "### Highlihting the peak of the crisis\n",
        "ax.axvspan(xmin=733112.0, xmax=733302.0, ymin=0.09,\n",
        "           alpha=0.3, color='grey')\n",
        "\n",
        "### Adding separate tick labels\n",
        "ax.set_xticklabels([])\n",
        "ax.set_yticklabels([])\n",
        "\n",
        "x = 732272.0\n",
        "for year in ['2006', '2007', '2008', '2009', '2010']:\n",
        "    ax.text(x, 1.13, year, alpha=0.5, fontsize=11)\n",
        "    x += 365\n",
        "\n",
        "y = 1.193\n",
        "for rate in ['1.2', '1.3', '1.4', '1.5']:\n",
        "    ax.text(732172.0, y, rate, alpha=0.5, fontsize=11)\n",
        "    y += 0.1\n",
        "\n",
        "## Adding a title and a subtitle\n",
        "ax.text(732172.0, 1.67, \"Euro-USD rate peaked at 1.59 during 2007-2008's financial crisis\",\n",
        "        weight='bold')\n",
        "ax.text(732172.0, 1.63, 'Euro-USD exchange rates between 2006 and 2010',\n",
        "        size=12)\n",
        "\n",
        "### Adding a signature\n",
        "ax.text(732172.0, 1.07, '©DATAQUEST' + ' '*94 + 'Source: European Central Bank',\n",
        "        color = '#f0f0f0', backgroundcolor = '#4d4d4d',\n",
        "        size=10)\n",
        "\n",
        "### Add some transparency to the grid\n",
        "ax.grid(alpha=0.5)\n",
        "\n",
        "plt.show()\n",
        "\n"
      ],
      "metadata": {
        "id": "6IrKN9v-hPi9"
      },
      "execution_count": null,
      "outputs": []
    },
    {
      "cell_type": "code",
      "source": [
        "bush_obama_trump = euro_to_dollar.copy(\n",
        "                   )[(euro_to_dollar['Time'].dt.year >= 2001) & (euro_to_dollar['Time'].dt.year < 2021)]\n",
        "bush = bush_obama_trump.copy(\n",
        "       )[bush_obama_trump['Time'].dt.year < 2009]\n",
        "obama = bush_obama_trump.copy(\n",
        "       )[(bush_obama_trump['Time'].dt.year >= 2009) & (bush_obama_trump['Time'].dt.year < 2017)]\n",
        "trump = bush_obama_trump.copy(\n",
        "       )[(bush_obama_trump['Time'].dt.year >= 2017) & (bush_obama_trump['Time'].dt.year < 2021)]"
      ],
      "metadata": {
        "id": "Be_d0uHFhPxi"
      },
      "execution_count": null,
      "outputs": []
    },
    {
      "cell_type": "code",
      "source": [
        "### Adding the FiveThirtyEight style\n",
        "style.use('fivethirtyeight')\n",
        "\n",
        "### Adding the subplots\n",
        "plt.figure(figsize=(12, 6))\n",
        "ax1 = plt.subplot(2,3,1)\n",
        "ax2 = plt.subplot(2,3,2)\n",
        "ax3 = plt.subplot(2,3,3)\n",
        "ax4 = plt.subplot(2,1,2)\n",
        "axes = [ax1, ax2, ax3, ax4]\n",
        "\n",
        "### Changes to all the subplots\n",
        "for ax in axes:\n",
        "    ax.set_ylim(0.8, 1.7)\n",
        "    ax.set_yticks([1.0, 1.2, 1.4, 1.6])\n",
        "    ax.set_yticklabels(['1.0', '1.2','1.4', '1.6'],\n",
        "                   alpha=0.3)\n",
        "    ax.grid(alpha=0.5)\n",
        "\n",
        "\n",
        "### Ax1: Bush\n",
        "ax1.plot(bush['Time'], bush['rolling_mean'],\n",
        "        color='#BF5FFF')\n",
        "ax1.set_xticklabels(['', '2001', '', '2003', '', '2005', '',\n",
        "                     '2007', '', '2009'],\n",
        "                   alpha=0.3)\n",
        "ax1.text(731516.0, 1.92, 'BUSH', fontsize=18, weight='bold',\n",
        "        color='#BF5FFF')\n",
        "ax1.text(731216.0, 1.8, '(2001-2009)', weight='bold',\n",
        "        alpha=0.3)\n",
        "\n",
        "\n",
        "### Ax2: Obama\n",
        "ax2.plot(obama['Time'], obama['rolling_mean'],\n",
        "        color='#ffa500')\n",
        "ax2.set_xticklabels(['', '2009', '', '2011', '', '2013', '',\n",
        "                     '2015', '', '2017'],\n",
        "                   alpha=0.3)\n",
        "ax2.text(734288.0, 1.92, 'OBAMA', fontsize=18, weight='bold',\n",
        "        color='#ffa500')\n",
        "ax2.text(734138.0, 1.8, '(2009-2017)', weight='bold',\n",
        "         alpha=0.3)\n",
        "\n",
        "\n",
        "### Ax3: Trump\n",
        "ax3.plot(trump['Time'], trump['rolling_mean'],\n",
        "        color='#00B2EE')\n",
        "ax3.set_xticklabels(['2017', '', '2018', '', '2019', '',\n",
        "                     '2020', '', '2021'],\n",
        "                   alpha=0.3)\n",
        "ax3.text(736855.0, 1.92, 'TRUMP', fontsize=18, weight='bold',\n",
        "        color='#00B2EE')\n",
        "ax3.text(736745.0, 1.8, '(2017-2021)', weight='bold',\n",
        "         alpha=0.3)\n",
        "\n",
        "### Ax4: Bush-Obama-Trump\n",
        "ax4.plot(bush['Time'], bush['rolling_mean'],\n",
        "        color='#BF5FFF')\n",
        "ax4.plot(obama['Time'], obama['rolling_mean'],\n",
        "        color='#ffa500')\n",
        "ax4.plot(trump['Time'], trump['rolling_mean'],\n",
        "        color='#00B2EE')\n",
        "ax4.grid(alpha=0.5)\n",
        "ax4.set_xticks([])\n",
        "\n",
        "### Adding a title and a subtitle\n",
        "ax1.text(730016.0, 2.35, 'EURO-USD rate averaged 1.22 under the last three US presidents',\n",
        "         fontsize=20, weight='bold')\n",
        "ax1.text(730016.0, 2.14, '''EURO-USD exchange rates under George W. Bush (2001 - 2009), Barack Obama (2009-2017),\n",
        "and Donald Trump (2017-2021)''',\n",
        "        fontsize=16)\n",
        "\n",
        "### Adding a signature\n",
        "ax4.text(729916.0, 0.65, '©DATAQUEST' + ' '*103 + 'Source: European Central Bank',\n",
        "        color = '#f0f0f0', backgroundcolor = '#4d4d4d',\n",
        "        size=14)\n",
        "\n",
        "plt.show()\n",
        "\n"
      ],
      "metadata": {
        "id": "gwODGRQRhQAP"
      },
      "execution_count": null,
      "outputs": []
    }
  ]
}